{
 "cells": [
  {
   "cell_type": "code",
   "execution_count": 1,
   "id": "f3145a4a",
   "metadata": {},
   "outputs": [],
   "source": [
    "%load_ext autoreload\n",
    "%autoreload 2"
   ]
  },
  {
   "cell_type": "code",
   "execution_count": 2,
   "id": "43daf52f",
   "metadata": {},
   "outputs": [],
   "source": [
    "#%pip install transformers"
   ]
  },
  {
   "cell_type": "code",
   "execution_count": 3,
   "id": "6d777e79",
   "metadata": {},
   "outputs": [
    {
     "name": "stderr",
     "output_type": "stream",
     "text": [
      "C:\\Users\\nayut\\.conda\\envs\\cr\\lib\\site-packages\\tqdm\\auto.py:22: TqdmWarning: IProgress not found. Please update jupyter and ipywidgets. See https://ipywidgets.readthedocs.io/en/stable/user_install.html\n",
      "  from .autonotebook import tqdm as notebook_tqdm\n"
     ]
    }
   ],
   "source": [
    "from torch import nn\n",
    "from SNLIDataset import SNLIDataset\n",
    "import torch\n",
    "from torch.utils.data import DataLoader\n",
    "from datasets import load_dataset, concatenate_datasets\n",
    "from transformers import BertTokenizer, DistilBertTokenizer"
   ]
  },
  {
   "cell_type": "code",
   "execution_count": 4,
   "id": "f75dc060",
   "metadata": {},
   "outputs": [
    {
     "name": "stdout",
     "output_type": "stream",
     "text": [
      "cuda\n"
     ]
    }
   ],
   "source": [
    "device = 'cuda' if torch.cuda.is_available() else 'cpu'\n",
    "print(device)"
   ]
  },
  {
   "cell_type": "code",
   "execution_count": 5,
   "id": "7b52cae6",
   "metadata": {},
   "outputs": [
    {
     "name": "stderr",
     "output_type": "stream",
     "text": [
      "Found cached dataset snli (C:/Users/nayut/.cache/huggingface/datasets/snli/plain_text/1.0.0/1f60b67533b65ae0275561ff7828aad5ee4282d0e6f844fd148d05d3c6ea251b)\n",
      "100%|███████████████████████████████████████████████████████████████████████████████████| 3/3 [00:00<00:00, 259.29it/s]\n",
      "Loading cached processed dataset at C:/Users/nayut/.cache/huggingface/datasets/snli/plain_text/1.0.0/1f60b67533b65ae0275561ff7828aad5ee4282d0e6f844fd148d05d3c6ea251b\\cache-52fcad8e87d62c80.arrow\n",
      "Loading cached processed dataset at C:/Users/nayut/.cache/huggingface/datasets/snli/plain_text/1.0.0/1f60b67533b65ae0275561ff7828aad5ee4282d0e6f844fd148d05d3c6ea251b\\cache-85328198e48f3415.arrow\n"
     ]
    }
   ],
   "source": [
    "snli = load_dataset(\"snli\")\n",
    "snli_train = concatenate_datasets([snli[\"train\"], snli[\"validation\"]]).filter(lambda x: x[\"label\"] != -1)\n",
    "snli_test = snli[\"test\"].filter(lambda x: x[\"label\"] != -1)"
   ]
  },
  {
   "cell_type": "code",
   "execution_count": 21,
   "id": "637604b8",
   "metadata": {},
   "outputs": [],
   "source": [
    "TRAINING_REQUIRED_LENGTH=50000\n",
    "TESTING_REQUIRED_LENGTH=10000\n",
    "#TOKENIZER = BertTokenizer.from_pretrained(\"bert-base-uncased\")\n",
    "TOKENIZER = DistilBertTokenizer.from_pretrained(\"distilbert-base-uncased\")\n",
    "snli_train_dataset = SNLIDataset(snli_train[\"premise\"][:TRAINING_REQUIRED_LENGTH], snli_train[\"hypothesis\"][:TRAINING_REQUIRED_LENGTH],snli_train[\"label\"][:TRAINING_REQUIRED_LENGTH], TOKENIZER,split=False)\n",
    "snli_test_dataset = SNLIDataset(snli_test[\"premise\"][:TESTING_REQUIRED_LENGTH], snli_test[\"hypothesis\"][:TESTING_REQUIRED_LENGTH],snli_test[\"label\"][:TESTING_REQUIRED_LENGTH], TOKENIZER, split=False)"
   ]
  },
  {
   "cell_type": "code",
   "execution_count": 22,
   "id": "6687d0f7",
   "metadata": {},
   "outputs": [],
   "source": [
    "from train import train_double_encoder, train_single_encoder\n",
    "from models import BasicDoubleDistilBertClassifier, BasicSingleDistilBertClassifier"
   ]
  },
  {
   "cell_type": "code",
   "execution_count": 23,
   "id": "5f5716ad",
   "metadata": {},
   "outputs": [],
   "source": [
    "snli_test_dataloader = DataLoader(snli_test_dataset, batch_size=16, shuffle=True)\n",
    "snli_train_dataloader = DataLoader(snli_train_dataset, batch_size=16, shuffle=True)"
   ]
  },
  {
   "cell_type": "code",
   "execution_count": 1,
   "id": "e2927a46",
   "metadata": {},
   "outputs": [
    {
     "ename": "NameError",
     "evalue": "name 'nn' is not defined",
     "output_type": "error",
     "traceback": [
      "\u001b[1;31m---------------------------------------------------------------------------\u001b[0m",
      "\u001b[1;31mNameError\u001b[0m                                 Traceback (most recent call last)",
      "\u001b[1;32m~\\AppData\\Local\\Temp\\ipykernel_11880\\1220352192.py\u001b[0m in \u001b[0;36m<module>\u001b[1;34m\u001b[0m\n\u001b[0;32m      6\u001b[0m \u001b[0mcontext\u001b[0m \u001b[1;33m=\u001b[0m \u001b[1;34m\"test1\"\u001b[0m\u001b[1;33m\u001b[0m\u001b[1;33m\u001b[0m\u001b[0m\n\u001b[0;32m      7\u001b[0m \u001b[0mreport_period\u001b[0m \u001b[1;33m=\u001b[0m \u001b[1;36m50\u001b[0m\u001b[1;33m\u001b[0m\u001b[1;33m\u001b[0m\u001b[0m\n\u001b[1;32m----> 8\u001b[1;33m \u001b[0mcriterion\u001b[0m \u001b[1;33m=\u001b[0m \u001b[0mnn\u001b[0m\u001b[1;33m.\u001b[0m\u001b[0mCrossEntropyLoss\u001b[0m\u001b[1;33m(\u001b[0m\u001b[1;33m)\u001b[0m\u001b[1;33m\u001b[0m\u001b[1;33m\u001b[0m\u001b[0m\n\u001b[0m\u001b[0;32m      9\u001b[0m \u001b[1;31m#adv_model = AdversialClassifier(alpha)\u001b[0m\u001b[1;33m\u001b[0m\u001b[1;33m\u001b[0m\u001b[0m\n\u001b[0;32m     10\u001b[0m \u001b[0mbasic_model\u001b[0m \u001b[1;33m=\u001b[0m  \u001b[0mBasicSingleDistilBertClassifier\u001b[0m\u001b[1;33m(\u001b[0m\u001b[1;33m)\u001b[0m\u001b[1;33m\u001b[0m\u001b[1;33m\u001b[0m\u001b[0m\n",
      "\u001b[1;31mNameError\u001b[0m: name 'nn' is not defined"
     ]
    }
   ],
   "source": [
    "alpha = 1\n",
    "delta = 0.5\n",
    "n_epochs = 10\n",
    "lr = 0.0001\n",
    "data_name = \"snli\"\n",
    "context = \"test1\"\n",
    "report_period = 50\n",
    "criterion = nn.CrossEntropyLoss()\n",
    "#adv_model = AdversialClassifier(alpha)\n",
    "basic_model =  BasicSingleDistilBertClassifier()\n",
    "optimizer = torch.optim.Adam(basic_model.parameters(), lr=lr)\n",
    "train_single_encoder(basic_model, snli_train_dataloader, snli_test_dataloader, \n",
    "                     optimizer, n_epochs, data_name, context, device, criterion, report_period=report_period)"
   ]
  },
  {
   "cell_type": "code",
   "execution_count": null,
   "id": "c51e59c0",
   "metadata": {},
   "outputs": [],
   "source": []
  }
 ],
 "metadata": {
  "kernelspec": {
   "display_name": "Python [conda env:.conda-cr]",
   "language": "python",
   "name": "conda-env-.conda-cr-py"
  },
  "language_info": {
   "codemirror_mode": {
    "name": "ipython",
    "version": 3
   },
   "file_extension": ".py",
   "mimetype": "text/x-python",
   "name": "python",
   "nbconvert_exporter": "python",
   "pygments_lexer": "ipython3",
   "version": "3.9.15"
  }
 },
 "nbformat": 4,
 "nbformat_minor": 5
}
